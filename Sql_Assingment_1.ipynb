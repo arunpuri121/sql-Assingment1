{
 "cells": [
  {
   "cell_type": "code",
   "execution_count": 1,
   "id": "875f2ce5",
   "metadata": {},
   "outputs": [],
   "source": [
    "# package import for sqlite3 and csv\n",
    "\n",
    "import sqlite3\n",
    "import csv"
   ]
  },
  {
   "cell_type": "code",
   "execution_count": 2,
   "id": "30e4f7bf",
   "metadata": {},
   "outputs": [],
   "source": [
    "# creating data base in memory\n",
    "\n",
    "db = sqlite3.connect(':memory:')"
   ]
  },
  {
   "cell_type": "code",
   "execution_count": 3,
   "id": "06aca7e0",
   "metadata": {},
   "outputs": [],
   "source": [
    "# getting a cursor object\n",
    "\n",
    "cursor = db.cursor()"
   ]
  },
  {
   "cell_type": "code",
   "execution_count": 4,
   "id": "e8c4d014",
   "metadata": {},
   "outputs": [
    {
     "data": {
      "text/plain": [
       "<sqlite3.Cursor at 0x19e90b1c340>"
      ]
     },
     "execution_count": 4,
     "metadata": {},
     "output_type": "execute_result"
    }
   ],
   "source": [
    "# creating table Ages\n",
    "\n",
    "cursor.execute('''CREATE TABLE Ages (\n",
    "  name VARCHAR(128),\n",
    "  age INTEGER\n",
    ");\n",
    "''')"
   ]
  },
  {
   "cell_type": "code",
   "execution_count": 5,
   "id": "c693afaf",
   "metadata": {},
   "outputs": [
    {
     "data": {
      "text/plain": [
       "<sqlite3.Cursor at 0x19e90b1c340>"
      ]
     },
     "execution_count": 5,
     "metadata": {},
     "output_type": "execute_result"
    }
   ],
   "source": [
    "# deleting all the previous records from ages table if exists\n",
    "\n",
    "cursor.execute('''Delete From Ages''')"
   ]
  },
  {
   "cell_type": "code",
   "execution_count": 6,
   "id": "b8952af8",
   "metadata": {},
   "outputs": [
    {
     "data": {
      "text/plain": [
       "<sqlite3.Cursor at 0x19e90b1c340>"
      ]
     },
     "execution_count": 6,
     "metadata": {},
     "output_type": "execute_result"
    }
   ],
   "source": [
    "# entering the values into the ages table\n",
    "\n",
    "cursor.execute('''insert into Ages values( \"Mara\", 28),\n",
    "                (\"Otto\", 32),\n",
    "                (\"Fyn\", 31),\n",
    "                (\"Neshawn\", 17);''')"
   ]
  },
  {
   "cell_type": "code",
   "execution_count": 7,
   "id": "958ffe9f",
   "metadata": {},
   "outputs": [
    {
     "data": {
      "text/plain": [
       "<sqlite3.Cursor at 0x19e90b1c340>"
      ]
     },
     "execution_count": 7,
     "metadata": {},
     "output_type": "execute_result"
    }
   ],
   "source": [
    "# selecting the values in the ages table to check if the values are there or not\n",
    "\n",
    "cursor.execute('''select * from Ages;''')"
   ]
  },
  {
   "cell_type": "code",
   "execution_count": 8,
   "id": "adfc0ae2",
   "metadata": {},
   "outputs": [],
   "source": [
    "# fetching the values from the cursor object and assigning into to a new variable rows\n",
    "\n",
    "rows=cursor.fetchall();"
   ]
  },
  {
   "cell_type": "code",
   "execution_count": 9,
   "id": "df059abb",
   "metadata": {},
   "outputs": [
    {
     "name": "stdout",
     "output_type": "stream",
     "text": [
      "('Mara', 28)\n",
      "('Otto', 32)\n",
      "('Fyn', 31)\n",
      "('Neshawn', 17)\n"
     ]
    }
   ],
   "source": [
    "# print the elements in the rows variable with the for loop\n",
    "\n",
    "for row in rows:\n",
    "    print(row)"
   ]
  },
  {
   "cell_type": "code",
   "execution_count": 10,
   "id": "044b0fc4",
   "metadata": {},
   "outputs": [
    {
     "data": {
      "text/plain": [
       "<sqlite3.Cursor at 0x19e90b1c340>"
      ]
     },
     "execution_count": 10,
     "metadata": {},
     "output_type": "execute_result"
    }
   ],
   "source": [
    "# creating a virtual table hex and putting all the hex values from the ages table into it\n",
    "\n",
    "cursor.execute('''create view hex as SELECT hex(name || age) AS X FROM Ages ORDER BY X''')"
   ]
  },
  {
   "cell_type": "code",
   "execution_count": 11,
   "id": "688d6293",
   "metadata": {},
   "outputs": [
    {
     "data": {
      "text/plain": [
       "<sqlite3.Cursor at 0x19e90b1c340>"
      ]
     },
     "execution_count": 11,
     "metadata": {},
     "output_type": "execute_result"
    }
   ],
   "source": [
    "# selecting only the first record \n",
    "\n",
    "cursor.execute('''select * from hex limit 1;''')"
   ]
  },
  {
   "cell_type": "code",
   "execution_count": 12,
   "id": "f78ba51f",
   "metadata": {},
   "outputs": [],
   "source": [
    "# fetching the values from the cursor object and assigning it to rows variable\n",
    "\n",
    "rows=cursor.fetchall();"
   ]
  },
  {
   "cell_type": "code",
   "execution_count": 13,
   "id": "a22c90c5",
   "metadata": {},
   "outputs": [
    {
     "name": "stdout",
     "output_type": "stream",
     "text": [
      "('46796E3331',)\n"
     ]
    }
   ],
   "source": [
    "# now printing the values which are there in rows variable\n",
    "\n",
    "for row in rows:\n",
    "    print(row)"
   ]
  },
  {
   "cell_type": "code",
   "execution_count": null,
   "id": "f572dfb9",
   "metadata": {},
   "outputs": [],
   "source": []
  },
  {
   "cell_type": "code",
   "execution_count": null,
   "id": "f65f664c",
   "metadata": {},
   "outputs": [],
   "source": []
  }
 ],
 "metadata": {
  "kernelspec": {
   "display_name": "Python 3 (ipykernel)",
   "language": "python",
   "name": "python3"
  },
  "language_info": {
   "codemirror_mode": {
    "name": "ipython",
    "version": 3
   },
   "file_extension": ".py",
   "mimetype": "text/x-python",
   "name": "python",
   "nbconvert_exporter": "python",
   "pygments_lexer": "ipython3",
   "version": "3.11.5"
  }
 },
 "nbformat": 4,
 "nbformat_minor": 5
}
